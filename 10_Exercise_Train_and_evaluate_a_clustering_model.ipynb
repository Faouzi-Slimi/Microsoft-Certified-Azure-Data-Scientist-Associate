{
  "nbformat": 4,
  "nbformat_minor": 0,
  "metadata": {
    "colab": {
      "provenance": [],
      "authorship_tag": "ABX9TyOdCfnJwiU3lkLmcywB/Amv",
      "include_colab_link": true
    },
    "kernelspec": {
      "name": "python3",
      "display_name": "Python 3"
    },
    "language_info": {
      "name": "python"
    }
  },
  "cells": [
    {
      "cell_type": "markdown",
      "metadata": {
        "id": "view-in-github",
        "colab_type": "text"
      },
      "source": [
        "<a href=\"https://colab.research.google.com/github/Faouzi-Slimi/Microsoft-Certified-Azure-Data-Scientist-Associate/blob/main/10_Exercise_Train_and_evaluate_a_clustering_model.ipynb\" target=\"_parent\"><img src=\"https://colab.research.google.com/assets/colab-badge.svg\" alt=\"Open In Colab\"/></a>"
      ]
    },
    {
      "cell_type": "markdown",
      "source": [],
      "metadata": {
        "id": "BZOI6nMpSkng"
      }
    },
    {
      "cell_type": "code",
      "execution_count": 1,
      "metadata": {
        "colab": {
          "base_uri": "https://localhost:8080/",
          "height": 554
        },
        "id": "0u5Y1h11ShgN",
        "outputId": "d21e6412-eeab-442f-cc47-5a52c8520379"
      },
      "outputs": [
        {
          "output_type": "stream",
          "name": "stdout",
          "text": [
            "--2023-02-01 18:44:15--  https://raw.githubusercontent.com/MicrosoftDocs/mslearn-introduction-to-machine-learning/main/Data/ml-basics/seeds.csv\n",
            "Resolving raw.githubusercontent.com (raw.githubusercontent.com)... 185.199.108.133, 185.199.109.133, 185.199.110.133, ...\n",
            "Connecting to raw.githubusercontent.com (raw.githubusercontent.com)|185.199.108.133|:443... connected.\n",
            "HTTP request sent, awaiting response... 200 OK\n",
            "Length: 9386 (9.2K) [text/plain]\n",
            "Saving to: ‘seeds.csv’\n",
            "\n",
            "seeds.csv           100%[===================>]   9.17K  --.-KB/s    in 0s      \n",
            "\n",
            "2023-02-01 18:44:15 (38.4 MB/s) - ‘seeds.csv’ saved [9386/9386]\n",
            "\n"
          ]
        },
        {
          "output_type": "execute_result",
          "data": {
            "text/plain": [
              "      area  perimeter  compactness  kernel_length  kernel_width  \\\n",
              "79   17.12      15.55       0.8892          5.850         3.566   \n",
              "109  18.55      16.22       0.8865          6.153         3.674   \n",
              "93   18.59      16.05       0.9066          6.037         3.860   \n",
              "151  12.01      13.52       0.8249          5.405         2.776   \n",
              "34   15.05      14.68       0.8779          5.712         3.328   \n",
              "67   14.01      14.29       0.8625          5.609         3.158   \n",
              "33   13.94      14.17       0.8728          5.585         3.150   \n",
              "114  20.97      17.25       0.8859          6.563         3.991   \n",
              "155  11.19      13.05       0.8253          5.250         2.675   \n",
              "44   15.11      14.54       0.8986          5.579         3.462   \n",
              "\n",
              "     asymmetry_coefficient  \n",
              "79                   2.858  \n",
              "109                  1.738  \n",
              "93                   6.001  \n",
              "151                  6.992  \n",
              "34                   2.129  \n",
              "67                   2.217  \n",
              "33                   2.124  \n",
              "114                  4.677  \n",
              "155                  5.813  \n",
              "44                   3.128  "
            ],
            "text/html": [
              "\n",
              "  <div id=\"df-57be647c-c12d-4e21-87d9-f985cf1c1234\">\n",
              "    <div class=\"colab-df-container\">\n",
              "      <div>\n",
              "<style scoped>\n",
              "    .dataframe tbody tr th:only-of-type {\n",
              "        vertical-align: middle;\n",
              "    }\n",
              "\n",
              "    .dataframe tbody tr th {\n",
              "        vertical-align: top;\n",
              "    }\n",
              "\n",
              "    .dataframe thead th {\n",
              "        text-align: right;\n",
              "    }\n",
              "</style>\n",
              "<table border=\"1\" class=\"dataframe\">\n",
              "  <thead>\n",
              "    <tr style=\"text-align: right;\">\n",
              "      <th></th>\n",
              "      <th>area</th>\n",
              "      <th>perimeter</th>\n",
              "      <th>compactness</th>\n",
              "      <th>kernel_length</th>\n",
              "      <th>kernel_width</th>\n",
              "      <th>asymmetry_coefficient</th>\n",
              "    </tr>\n",
              "  </thead>\n",
              "  <tbody>\n",
              "    <tr>\n",
              "      <th>79</th>\n",
              "      <td>17.12</td>\n",
              "      <td>15.55</td>\n",
              "      <td>0.8892</td>\n",
              "      <td>5.850</td>\n",
              "      <td>3.566</td>\n",
              "      <td>2.858</td>\n",
              "    </tr>\n",
              "    <tr>\n",
              "      <th>109</th>\n",
              "      <td>18.55</td>\n",
              "      <td>16.22</td>\n",
              "      <td>0.8865</td>\n",
              "      <td>6.153</td>\n",
              "      <td>3.674</td>\n",
              "      <td>1.738</td>\n",
              "    </tr>\n",
              "    <tr>\n",
              "      <th>93</th>\n",
              "      <td>18.59</td>\n",
              "      <td>16.05</td>\n",
              "      <td>0.9066</td>\n",
              "      <td>6.037</td>\n",
              "      <td>3.860</td>\n",
              "      <td>6.001</td>\n",
              "    </tr>\n",
              "    <tr>\n",
              "      <th>151</th>\n",
              "      <td>12.01</td>\n",
              "      <td>13.52</td>\n",
              "      <td>0.8249</td>\n",
              "      <td>5.405</td>\n",
              "      <td>2.776</td>\n",
              "      <td>6.992</td>\n",
              "    </tr>\n",
              "    <tr>\n",
              "      <th>34</th>\n",
              "      <td>15.05</td>\n",
              "      <td>14.68</td>\n",
              "      <td>0.8779</td>\n",
              "      <td>5.712</td>\n",
              "      <td>3.328</td>\n",
              "      <td>2.129</td>\n",
              "    </tr>\n",
              "    <tr>\n",
              "      <th>67</th>\n",
              "      <td>14.01</td>\n",
              "      <td>14.29</td>\n",
              "      <td>0.8625</td>\n",
              "      <td>5.609</td>\n",
              "      <td>3.158</td>\n",
              "      <td>2.217</td>\n",
              "    </tr>\n",
              "    <tr>\n",
              "      <th>33</th>\n",
              "      <td>13.94</td>\n",
              "      <td>14.17</td>\n",
              "      <td>0.8728</td>\n",
              "      <td>5.585</td>\n",
              "      <td>3.150</td>\n",
              "      <td>2.124</td>\n",
              "    </tr>\n",
              "    <tr>\n",
              "      <th>114</th>\n",
              "      <td>20.97</td>\n",
              "      <td>17.25</td>\n",
              "      <td>0.8859</td>\n",
              "      <td>6.563</td>\n",
              "      <td>3.991</td>\n",
              "      <td>4.677</td>\n",
              "    </tr>\n",
              "    <tr>\n",
              "      <th>155</th>\n",
              "      <td>11.19</td>\n",
              "      <td>13.05</td>\n",
              "      <td>0.8253</td>\n",
              "      <td>5.250</td>\n",
              "      <td>2.675</td>\n",
              "      <td>5.813</td>\n",
              "    </tr>\n",
              "    <tr>\n",
              "      <th>44</th>\n",
              "      <td>15.11</td>\n",
              "      <td>14.54</td>\n",
              "      <td>0.8986</td>\n",
              "      <td>5.579</td>\n",
              "      <td>3.462</td>\n",
              "      <td>3.128</td>\n",
              "    </tr>\n",
              "  </tbody>\n",
              "</table>\n",
              "</div>\n",
              "      <button class=\"colab-df-convert\" onclick=\"convertToInteractive('df-57be647c-c12d-4e21-87d9-f985cf1c1234')\"\n",
              "              title=\"Convert this dataframe to an interactive table.\"\n",
              "              style=\"display:none;\">\n",
              "        \n",
              "  <svg xmlns=\"http://www.w3.org/2000/svg\" height=\"24px\"viewBox=\"0 0 24 24\"\n",
              "       width=\"24px\">\n",
              "    <path d=\"M0 0h24v24H0V0z\" fill=\"none\"/>\n",
              "    <path d=\"M18.56 5.44l.94 2.06.94-2.06 2.06-.94-2.06-.94-.94-2.06-.94 2.06-2.06.94zm-11 1L8.5 8.5l.94-2.06 2.06-.94-2.06-.94L8.5 2.5l-.94 2.06-2.06.94zm10 10l.94 2.06.94-2.06 2.06-.94-2.06-.94-.94-2.06-.94 2.06-2.06.94z\"/><path d=\"M17.41 7.96l-1.37-1.37c-.4-.4-.92-.59-1.43-.59-.52 0-1.04.2-1.43.59L10.3 9.45l-7.72 7.72c-.78.78-.78 2.05 0 2.83L4 21.41c.39.39.9.59 1.41.59.51 0 1.02-.2 1.41-.59l7.78-7.78 2.81-2.81c.8-.78.8-2.07 0-2.86zM5.41 20L4 18.59l7.72-7.72 1.47 1.35L5.41 20z\"/>\n",
              "  </svg>\n",
              "      </button>\n",
              "      \n",
              "  <style>\n",
              "    .colab-df-container {\n",
              "      display:flex;\n",
              "      flex-wrap:wrap;\n",
              "      gap: 12px;\n",
              "    }\n",
              "\n",
              "    .colab-df-convert {\n",
              "      background-color: #E8F0FE;\n",
              "      border: none;\n",
              "      border-radius: 50%;\n",
              "      cursor: pointer;\n",
              "      display: none;\n",
              "      fill: #1967D2;\n",
              "      height: 32px;\n",
              "      padding: 0 0 0 0;\n",
              "      width: 32px;\n",
              "    }\n",
              "\n",
              "    .colab-df-convert:hover {\n",
              "      background-color: #E2EBFA;\n",
              "      box-shadow: 0px 1px 2px rgba(60, 64, 67, 0.3), 0px 1px 3px 1px rgba(60, 64, 67, 0.15);\n",
              "      fill: #174EA6;\n",
              "    }\n",
              "\n",
              "    [theme=dark] .colab-df-convert {\n",
              "      background-color: #3B4455;\n",
              "      fill: #D2E3FC;\n",
              "    }\n",
              "\n",
              "    [theme=dark] .colab-df-convert:hover {\n",
              "      background-color: #434B5C;\n",
              "      box-shadow: 0px 1px 3px 1px rgba(0, 0, 0, 0.15);\n",
              "      filter: drop-shadow(0px 1px 2px rgba(0, 0, 0, 0.3));\n",
              "      fill: #FFFFFF;\n",
              "    }\n",
              "  </style>\n",
              "\n",
              "      <script>\n",
              "        const buttonEl =\n",
              "          document.querySelector('#df-57be647c-c12d-4e21-87d9-f985cf1c1234 button.colab-df-convert');\n",
              "        buttonEl.style.display =\n",
              "          google.colab.kernel.accessAllowed ? 'block' : 'none';\n",
              "\n",
              "        async function convertToInteractive(key) {\n",
              "          const element = document.querySelector('#df-57be647c-c12d-4e21-87d9-f985cf1c1234');\n",
              "          const dataTable =\n",
              "            await google.colab.kernel.invokeFunction('convertToInteractive',\n",
              "                                                     [key], {});\n",
              "          if (!dataTable) return;\n",
              "\n",
              "          const docLinkHtml = 'Like what you see? Visit the ' +\n",
              "            '<a target=\"_blank\" href=https://colab.research.google.com/notebooks/data_table.ipynb>data table notebook</a>'\n",
              "            + ' to learn more about interactive tables.';\n",
              "          element.innerHTML = '';\n",
              "          dataTable['output_type'] = 'display_data';\n",
              "          await google.colab.output.renderOutput(dataTable, element);\n",
              "          const docLink = document.createElement('div');\n",
              "          docLink.innerHTML = docLinkHtml;\n",
              "          element.appendChild(docLink);\n",
              "        }\n",
              "      </script>\n",
              "    </div>\n",
              "  </div>\n",
              "  "
            ]
          },
          "metadata": {},
          "execution_count": 1
        }
      ],
      "source": [
        "import pandas as pd\n",
        "\n",
        "# load the training dataset\n",
        "!wget https://raw.githubusercontent.com/MicrosoftDocs/mslearn-introduction-to-machine-learning/main/Data/ml-basics/seeds.csv\n",
        "data = pd.read_csv('seeds.csv')\n",
        "\n",
        "# Display a random sample of 10 observations (just the features)\n",
        "features = data[data.columns[0:6]]\n",
        "features.sample(10)"
      ]
    },
    {
      "cell_type": "code",
      "source": [
        "from sklearn.preprocessing import MinMaxScaler\n",
        "from sklearn.decomposition import PCA\n",
        "\n",
        "# Normalize the numeric features so they're on the same scale\n",
        "scaled_features = MinMaxScaler().fit_transform(features[data.columns[0:6]])\n",
        "\n",
        "# Get two principal components\n",
        "pca = PCA(n_components=2).fit(scaled_features)\n",
        "features_2d = pca.transform(scaled_features)\n",
        "features_2d[0:10]"
      ],
      "metadata": {
        "colab": {
          "base_uri": "https://localhost:8080/"
        },
        "id": "Gh7wBNpDS0ti",
        "outputId": "88525576-dcab-4aa0-ccc3-92875441fb4b"
      },
      "execution_count": 2,
      "outputs": [
        {
          "output_type": "execute_result",
          "data": {
            "text/plain": [
              "array([[ 0.11883593, -0.09382469],\n",
              "       [ 0.0696878 , -0.31077233],\n",
              "       [-0.03499184, -0.37044705],\n",
              "       [-0.06582089, -0.36365235],\n",
              "       [ 0.32594892, -0.37695797],\n",
              "       [-0.02455447, -0.31060184],\n",
              "       [-0.00769646, -0.07594931],\n",
              "       [-0.05646955, -0.26696284],\n",
              "       [ 0.38196305, -0.05149471],\n",
              "       [ 0.35701044, -0.17697998]])"
            ]
          },
          "metadata": {},
          "execution_count": 2
        }
      ]
    },
    {
      "cell_type": "code",
      "source": [
        "import matplotlib.pyplot as plt\n",
        "\n",
        "%matplotlib inline\n",
        "\n",
        "plt.scatter(features_2d[:,0],features_2d[:,1])\n",
        "plt.xlabel('Dimension 1')\n",
        "plt.ylabel('Dimension 2')\n",
        "plt.title('Data')\n",
        "plt.show()"
      ],
      "metadata": {
        "colab": {
          "base_uri": "https://localhost:8080/",
          "height": 295
        },
        "id": "4-HoIVPkS4Tw",
        "outputId": "2c55d017-aabd-4ed0-b127-cb543806c7f2"
      },
      "execution_count": 3,
      "outputs": [
        {
          "output_type": "display_data",
          "data": {
            "text/plain": [
              "<Figure size 432x288 with 1 Axes>"
            ],
            "image/png": "[encoded data removed]"
          },
          "metadata": {
            "needs_background": "light"
          }
        }
      ]
    },
    {
      "cell_type": "code",
      "source": [
        "#importing the libraries\n",
        "import numpy as np\n",
        "import matplotlib.pyplot as plt\n",
        "from sklearn.cluster import KMeans\n",
        "%matplotlib inline\n",
        "\n",
        "# Create 10 models with 1 to 10 clusters\n",
        "wcss = []\n",
        "for i in range(1, 11):\n",
        "    kmeans = KMeans(n_clusters = i)\n",
        "    # Fit the data points\n",
        "    kmeans.fit(features.values)\n",
        "    # Get the WCSS (inertia) value\n",
        "    wcss.append(kmeans.inertia_)\n",
        "    \n",
        "#Plot the WCSS values onto a line graph\n",
        "plt.plot(range(1, 11), wcss)\n",
        "plt.title('WCSS by Clusters')\n",
        "plt.xlabel('Number of clusters')\n",
        "plt.ylabel('WCSS')\n",
        "plt.show()"
      ],
      "metadata": {
        "colab": {
          "base_uri": "https://localhost:8080/",
          "height": 295
        },
        "id": "VZr-bAKwTX7Z",
        "outputId": "48d7e12c-ea39-47f6-bce2-30f0c148ce34"
      },
      "execution_count": 4,
      "outputs": [
        {
          "output_type": "display_data",
          "data": {
            "text/plain": [
              "<Figure size 432x288 with 1 Axes>"
            ],
            "image/png": "[encoded data removed]"
          },
          "metadata": {
            "needs_background": "light"
          }
        }
      ]
    }
  ]
}